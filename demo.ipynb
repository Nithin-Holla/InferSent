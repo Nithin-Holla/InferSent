{
 "cells": [
  {
   "cell_type": "markdown",
   "metadata": {},
   "source": [
    "# Demo\n",
    "\n",
    "The following demo consists of two parts:\n",
    "1. User can input a premise and hypothesis and the prediction is displayed for the classifier models incorporating the following four encoders:\n",
    "    - BoW Baseline\n",
    "    - UniLSTM\n",
    "    - BiLSTM\n",
    "    - BiLSTM-MaxPool\n",
    "2. A list of sentences can be provided. The best-performing BiLSTM-MaxPool encoder is used to obtain their sentence embeddings. Next, a visualization of pairwise cosine similarity of the sentence embeddings is displayed."
   ]
  },
  {
   "cell_type": "markdown",
   "metadata": {},
   "source": [
    "## Loading the models"
   ]
  },
  {
   "cell_type": "code",
   "execution_count": 7,
   "metadata": {},
   "outputs": [],
   "source": [
    "# Import libraries\n",
    "import torch\n",
    "import torchtext\n",
    "from SNLIClassifier import SNLIClassifier\n",
    "from nltk import word_tokenize\n",
    "import json\n",
    "import numpy as np\n",
    "from sklearn.manifold import TSNE\n",
    "from matplotlib import pyplot as plt\n",
    "from sklearn.metrics.pairwise import cosine_similarity\n",
    "import seaborn as sns"
   ]
  },
  {
   "cell_type": "code",
   "execution_count": 8,
   "metadata": {},
   "outputs": [],
   "source": [
    "# Function to numericalize a sentence\n",
    "def numericalize(sentence, text_vocab, device):\n",
    "    sentence = word_tokenize(sentence)\n",
    "    sentence_len = torch.LongTensor(1).to(device)\n",
    "    sentence_len[0] = len(sentence)\n",
    "    numerical_sent = [text_vocab[word] if word in text_vocab else 0 for word in sentence]\n",
    "    numerical_sent = torch.tensor(numerical_sent).view(-1, 1).to(device)\n",
    "    return numerical_sent, sentence_len"
   ]
  },
  {
   "cell_type": "code",
   "execution_count": 9,
   "metadata": {},
   "outputs": [],
   "source": [
    "# Loading the model files and the vocab\n",
    "device = torch.device('cpu')\n",
    "model_path = 'checkpoint/'\n",
    "checkpoint_baseline = torch.load(model_path + 'average.pt', map_location=device)\n",
    "checkpoint_unilstm = torch.load(model_path + 'UniLSTM.pt', map_location=device)\n",
    "checkpoint_bilstm = torch.load(model_path + 'BiLSTM.pt', map_location=device)\n",
    "checkpoint_bilstm_max = torch.load(model_path + 'BiLSTMMaxPool.pt', map_location=device)\n",
    "text_vocab = checkpoint_baseline['text_vocab']\n",
    "label_vocab = checkpoint_baseline['label_vocab']\n",
    "vocab_size = len(text_vocab)\n",
    "label_mapping = sorted(label_vocab, key=label_vocab.get)"
   ]
  },
  {
   "cell_type": "code",
   "execution_count": 10,
   "metadata": {},
   "outputs": [],
   "source": [
    "# Defining the models and loading the state_dict\n",
    "baseline_model = SNLIClassifier(encoder='average',\n",
    "                           vocab_size=vocab_size,\n",
    "                           embedding_dim=300,\n",
    "                           hidden_dim=2048,\n",
    "                           fc_dim=512,\n",
    "                           num_classes=3,\n",
    "                           pretrained_vectors=None)\n",
    "unilstm_model = SNLIClassifier(encoder='uniLSTM',\n",
    "                           vocab_size=vocab_size,\n",
    "                           embedding_dim=300,\n",
    "                           hidden_dim=2048,\n",
    "                           fc_dim=512,\n",
    "                           num_classes=3,\n",
    "                           pretrained_vectors=None)\n",
    "bilstm_model = SNLIClassifier(encoder='biLSTM',\n",
    "                           vocab_size=vocab_size,\n",
    "                           embedding_dim=300,\n",
    "                           hidden_dim=2048,\n",
    "                           fc_dim=512,\n",
    "                           num_classes=3,\n",
    "                           pretrained_vectors=None)\n",
    "bilstm_max_model = SNLIClassifier(encoder='biLSTMmaxpool',\n",
    "                           vocab_size=vocab_size,\n",
    "                           embedding_dim=300,\n",
    "                           hidden_dim=2048,\n",
    "                           fc_dim=512,\n",
    "                           num_classes=3,\n",
    "                           pretrained_vectors=None)\n",
    "\n",
    "baseline_model.load_state_dict(checkpoint_baseline['model_state_dict'])\n",
    "unilstm_model.load_state_dict(checkpoint_unilstm['model_state_dict'])\n",
    "bilstm_model.load_state_dict(checkpoint_bilstm['model_state_dict'])\n",
    "bilstm_max_model.load_state_dict(checkpoint_bilstm_max['model_state_dict'])"
   ]
  },
  {
   "cell_type": "markdown",
   "metadata": {},
   "source": [
    "## Part 1 - Inference on user-input premise and hypothesis"
   ]
  },
  {
   "cell_type": "code",
   "execution_count": 117,
   "metadata": {},
   "outputs": [
    {
     "name": "stdout",
     "output_type": "stream",
     "text": [
      "Enter premise: The car was stuck in a traffic jam\n"
     ]
    }
   ],
   "source": [
    "# Premise input\n",
    "premise = input(\"Enter premise: \")"
   ]
  },
  {
   "cell_type": "code",
   "execution_count": 118,
   "metadata": {},
   "outputs": [
    {
     "name": "stdout",
     "output_type": "stream",
     "text": [
      "Enter hypothesis: The car was not stuck in a traffic jam\n"
     ]
    }
   ],
   "source": [
    "# Hypothesis input\n",
    "hypothesis = input(\"Enter hypothesis: \")"
   ]
  },
  {
   "cell_type": "code",
   "execution_count": 119,
   "metadata": {},
   "outputs": [],
   "source": [
    "# Numericalize premise and hypothesis\n",
    "premise, premise_len = numericalize(premise, text_vocab, device)\n",
    "hypothesis, hypothesis_len = numericalize(hypothesis, text_vocab, device)"
   ]
  },
  {
   "cell_type": "code",
   "execution_count": 120,
   "metadata": {},
   "outputs": [
    {
     "name": "stdout",
     "output_type": "stream",
     "text": [
      "Baseline model prediction:  entailment\n"
     ]
    }
   ],
   "source": [
    "# Prediction from baseline model\n",
    "baseline_model.eval()\n",
    "with torch.no_grad():\n",
    "    out = baseline_model(premise, hypothesis, premise_len, hypothesis_len)\n",
    "    prediction = torch.argmax(out, dim=1)\n",
    "print(\"Baseline model prediction: \", label_mapping[prediction])    "
   ]
  },
  {
   "cell_type": "code",
   "execution_count": 121,
   "metadata": {},
   "outputs": [
    {
     "name": "stdout",
     "output_type": "stream",
     "text": [
      "UniLSTM model prediction:  contradiction\n"
     ]
    }
   ],
   "source": [
    "# Prediction from UniLSTM model\n",
    "unilstm_model.eval()\n",
    "with torch.no_grad():\n",
    "    out = unilstm_model(premise, hypothesis, premise_len, hypothesis_len)\n",
    "    prediction = torch.argmax(out, dim=1)\n",
    "print(\"UniLSTM model prediction: \", label_mapping[prediction])    "
   ]
  },
  {
   "cell_type": "code",
   "execution_count": 122,
   "metadata": {},
   "outputs": [
    {
     "name": "stdout",
     "output_type": "stream",
     "text": [
      "BiLSTM model prediction:  contradiction\n"
     ]
    }
   ],
   "source": [
    "# Prediction from BiLSTM model\n",
    "bilstm_model.eval()\n",
    "with torch.no_grad():\n",
    "    out = bilstm_model(premise, hypothesis, premise_len, hypothesis_len)\n",
    "    prediction = torch.argmax(out, dim=1)\n",
    "print(\"BiLSTM model prediction: \", label_mapping[prediction])"
   ]
  },
  {
   "cell_type": "code",
   "execution_count": 123,
   "metadata": {},
   "outputs": [
    {
     "name": "stdout",
     "output_type": "stream",
     "text": [
      "BiLSTM-MaxPool model prediction:  entailment\n"
     ]
    }
   ],
   "source": [
    "# Prediction from BiLSTM-MaxPool model\n",
    "bilstm_max_model.eval()\n",
    "with torch.no_grad():\n",
    "    out = bilstm_max_model(premise, hypothesis, premise_len, hypothesis_len)\n",
    "    prediction = torch.argmax(out, dim=1)\n",
    "print(\"BiLSTM-MaxPool model prediction: \", label_mapping[prediction])"
   ]
  },
  {
   "cell_type": "markdown",
   "metadata": {},
   "source": [
    "## Part 2 - Similarity of sentence embeddings"
   ]
  },
  {
   "cell_type": "code",
   "execution_count": 127,
   "metadata": {},
   "outputs": [],
   "source": [
    "# List of input sentences\n",
    "sentence_list = ['It is raining today, hence I took an umbrella to work', \n",
    "                 'I had to take an umbrella because it was raining',\n",
    "                'Amsterdam attracts a large number of visitors',\n",
    "                'Amsterdam is visited by a large number of tourists',\n",
    "                'I like watching Game of Thrones',\n",
    "                'I dislike watching Game of Thrones',\n",
    "                'Artificial intelligence is the new electricity']"
   ]
  },
  {
   "cell_type": "code",
   "execution_count": 128,
   "metadata": {},
   "outputs": [],
   "source": [
    "# Obtain sentence embeddings\n",
    "bilstm_max_model.eval()\n",
    "sentence_embeddings = np.zeros((len(sentence_list), 2 * bilstm_max_model.hidden_dim))\n",
    "\n",
    "with torch.no_grad():\n",
    "    for idx, sentence in enumerate(sentence_list):\n",
    "        sent, sent_len = numericalize(sentence, text_vocab, device)\n",
    "        word_embedding = bilstm_max_model.embedding(sent)\n",
    "        sent_embedding = bilstm_max_model.encoder(word_embedding, sent_len)\n",
    "        sentence_embeddings[idx] = sent_embedding.numpy()  \n"
   ]
  },
  {
   "cell_type": "code",
   "execution_count": 129,
   "metadata": {},
   "outputs": [
    {
     "name": "stdout",
     "output_type": "stream",
     "text": [
      "Pairwise sentence-similarity: \n"
     ]
    },
    {
     "data": {
      "image/png": "[encoded data removed]",
      "text/plain": [
       "<Figure size 432x288 with 2 Axes>"
      ]
     },
     "metadata": {
      "needs_background": "light"
     },
     "output_type": "display_data"
    }
   ],
   "source": [
    "# Compute pairwise cosine distances and display as a heatmap\n",
    "cos_dist = cosine_similarity(sentence_embeddings, sentence_embeddings)\n",
    "print(\"Pairwise sentence cosine similarity: \")\n",
    "sns.heatmap(cos_dist);"
   ]
  }
 ],
 "metadata": {
  "kernelspec": {
   "display_name": "Python 3",
   "language": "python",
   "name": "python3"
  }
 },
 "nbformat": 4,
 "nbformat_minor": 2
}
